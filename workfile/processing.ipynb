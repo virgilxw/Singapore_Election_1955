{
 "cells": [
  {
   "cell_type": "markdown",
   "metadata": {
    "nbpresent": {
     "id": "d73109e4-e270-437d-9cb5-43721c7e9074"
    }
   },
   "source": [
    "# Notebook of scripts to import and parse data"
   ]
  },
  {
   "cell_type": "markdown",
   "metadata": {
    "nbpresent": {
     "id": "f51f3d52-de2b-40e9-9cf3-2cc59d161d51"
    }
   },
   "source": [
    "['year', 'constituency', 'constituency_type', 'candidates', 'party', 'vote_count', 'vote_percentage']\n",
    "\n",
    "## Importing data from CSV"
   ]
  },
  {
   "cell_type": "code",
   "execution_count": 1,
   "metadata": {
    "collapsed": false,
    "nbpresent": {
     "id": "2da10356-119f-4bf9-b945-37240307fd5e"
    }
   },
   "outputs": [],
   "source": [
    "import pandas as pd\n",
    "import os\n",
    "import json\n",
    "\n",
    "if not os.path.exists(\"output\"):\n",
    "    os.makedirs(\"output\")\n",
    "\n",
    "data = pd.read_csv(\"./RAW DATA/parliamentary-general-election-results-by-candidate.csv\")\n",
    "\n",
    "df = data.loc[data[\"year\"]==1955].drop([\"year\", \"constituency_type\", \"vote_count\"], axis=1)"
   ]
  },
  {
   "cell_type": "markdown",
   "metadata": {},
   "source": [
    "## winners1955.json\n",
    "```\n",
    "{\n",
    "    \"Havelock\": {\n",
    "        \"candidates\": \"Lim Yew Hock\",\n",
    "        \"party\": \"SLF\",\n",
    "        \"vote_percentage\": \"0.8648\"\n",
    "    },\n",
    "    \"Tanjong Pagar\": {\n",
    "        \"candidates\": \"Lee Kuan Yew\",\n",
    "        \"party\": \"PAP\",\n",
    "        \"vote_percentage\": \"0.7833\"\n",
    "    },\n",
    "```"
   ]
  },
  {
   "cell_type": "code",
   "execution_count": 2,
   "metadata": {
    "collapsed": false,
    "nbpresent": {
     "id": "35d786fd-5082-40a3-afaf-3b9baca9b992"
    }
   },
   "outputs": [],
   "source": [
    "def get_winners(group):\n",
    "    return group.loc[group['vote_percentage'] == group['vote_percentage'].max()]\n",
    "\n",
    "winners = df.groupby('constituency').apply(get_winners).reset_index(drop=True).sort_values(by=\"vote_percentage\", ascending=False).set_index(keys=\"constituency\")\n",
    "\n",
    "winners.to_json(r\"output/winners1955.json\", orient=\"index\")"
   ]
  },
  {
   "cell_type": "markdown",
   "metadata": {
    "collapsed": true
   },
   "source": [
    "I tried using pandas because I hoped it would provide an easier way to create subsets of data. It didn't. The way I did this is less efficient, but the data set is small.\n",
    "\n",
    "\n",
    "## constituencies1955.json"
   ]
  },
  {
   "cell_type": "code",
   "execution_count": 5,
   "metadata": {
    "collapsed": false
   },
   "outputs": [],
   "source": [
    "import csv\n",
    "\n",
    "keys = ['year', 'constituency', 'constituency_type', 'candidates', 'party', 'vote_count', 'vote_percentage'];\n",
    "dict = {};\n",
    "sortedDict = {};\n",
    "\n",
    "with open('./RAW DATA/parliamentary-general-election-results-by-candidate.csv') as csv_file:\n",
    "    csv_reader = csv.reader(csv_file, delimiter=',')\n",
    "    for row in csv_reader:\n",
    "        if row[0] == \"1955\": \n",
    "            if row[1] in dict:                \n",
    "                dict[row[1]].insert(1, {\n",
    "                    \"candidates\": row[3],\n",
    "                    \"party\": row[4],\n",
    "                    \"vote_count\": int(row[5]),\n",
    "                    \"vote_percentage\": row[6]\n",
    "                })\n",
    "            else:\n",
    "                dict[row[1]] = [{\n",
    "                    \"candidates\": row[3],\n",
    "                    \"party\": row[4],\n",
    "                    \"vote_count\": int(row[5]),\n",
    "                    \"vote_percentage\": row[6]\n",
    "                }]\n",
    "                \n",
    "                \n",
    "    for district in dict:\n",
    "        sortedDict[district] = sorted( dict[district], key = lambda i: i[\"vote_count\"],reverse=True)\n",
    "\n",
    "text_file = open(r\"output/constituencies1955.json\", \"w\")\n",
    "text_file.write(json.dumps(sortedDict))\n",
    "text_file.close()"
   ]
  },
  {
   "cell_type": "code",
   "execution_count": null,
   "metadata": {
    "collapsed": true
   },
   "outputs": [],
   "source": []
  },
  {
   "cell_type": "code",
   "execution_count": null,
   "metadata": {
    "collapsed": true
   },
   "outputs": [],
   "source": []
  },
  {
   "cell_type": "code",
   "execution_count": null,
   "metadata": {
    "collapsed": true
   },
   "outputs": [],
   "source": []
  }
 ],
 "metadata": {
  "anaconda-cloud": {},
  "celltoolbar": "Raw Cell Format",
  "kernelspec": {
   "display_name": "Python [default]",
   "language": "python",
   "name": "python3"
  },
  "language_info": {
   "codemirror_mode": {
    "name": "ipython",
    "version": 3
   },
   "file_extension": ".py",
   "mimetype": "text/x-python",
   "name": "python",
   "nbconvert_exporter": "python",
   "pygments_lexer": "ipython3",
   "version": "3.5.2"
  }
 },
 "nbformat": 4,
 "nbformat_minor": 1
}
