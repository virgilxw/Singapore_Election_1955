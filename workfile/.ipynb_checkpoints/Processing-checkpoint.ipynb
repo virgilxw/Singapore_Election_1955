{
 "cells": [
  {
   "cell_type": "markdown",
   "metadata": {
    "nbpresent": {
     "id": "d73109e4-e270-437d-9cb5-43721c7e9074"
    }
   },
   "source": [
    "# Notebook of scripts to import and parse data"
   ]
  },
  {
   "cell_type": "markdown",
   "metadata": {
    "nbpresent": {
     "id": "f51f3d52-de2b-40e9-9cf3-2cc59d161d51"
    }
   },
   "source": [
    "['year', 'constituency', 'constituency_type', 'candidates', 'party', 'vote_count', 'vote_percentage']\n",
    "\n",
    "## Importing data from CSV"
   ]
  },
  {
   "cell_type": "code",
   "execution_count": 16,
   "metadata": {
    "nbpresent": {
     "id": "2da10356-119f-4bf9-b945-37240307fd5e"
    }
   },
   "outputs": [
    {
     "data": {
      "text/html": [
       "<div>\n",
       "<style scoped>\n",
       "    .dataframe tbody tr th:only-of-type {\n",
       "        vertical-align: middle;\n",
       "    }\n",
       "\n",
       "    .dataframe tbody tr th {\n",
       "        vertical-align: top;\n",
       "    }\n",
       "\n",
       "    .dataframe thead th {\n",
       "        text-align: right;\n",
       "    }\n",
       "</style>\n",
       "<table border=\"1\" class=\"dataframe\">\n",
       "  <thead>\n",
       "    <tr style=\"text-align: right;\">\n",
       "      <th></th>\n",
       "      <th>constituency</th>\n",
       "      <th>candidates</th>\n",
       "      <th>party</th>\n",
       "      <th>vote_count</th>\n",
       "      <th>vote_percentage</th>\n",
       "    </tr>\n",
       "  </thead>\n",
       "  <tbody>\n",
       "    <tr>\n",
       "      <th>0</th>\n",
       "      <td>Bukit Panjang</td>\n",
       "      <td>Goh Tong Liang</td>\n",
       "      <td>PP</td>\n",
       "      <td>3097</td>\n",
       "      <td>72.21</td>\n",
       "    </tr>\n",
       "    <tr>\n",
       "      <th>1</th>\n",
       "      <td>Bukit Panjang</td>\n",
       "      <td>Lim Wee Toh</td>\n",
       "      <td>SLF</td>\n",
       "      <td>1192</td>\n",
       "      <td>27.79</td>\n",
       "    </tr>\n",
       "    <tr>\n",
       "      <th>2</th>\n",
       "      <td>Bukit Timah</td>\n",
       "      <td>S. F. Ho</td>\n",
       "      <td>PP</td>\n",
       "      <td>722</td>\n",
       "      <td>11.62</td>\n",
       "    </tr>\n",
       "    <tr>\n",
       "      <th>3</th>\n",
       "      <td>Bukit Timah</td>\n",
       "      <td>Lim Ching Siong</td>\n",
       "      <td>PAP</td>\n",
       "      <td>3259</td>\n",
       "      <td>52.45</td>\n",
       "    </tr>\n",
       "    <tr>\n",
       "      <th>4</th>\n",
       "      <td>Bukit Timah</td>\n",
       "      <td>A. N. Mitra</td>\n",
       "      <td>SLF</td>\n",
       "      <td>924</td>\n",
       "      <td>14.88</td>\n",
       "    </tr>\n",
       "  </tbody>\n",
       "</table>\n",
       "</div>"
      ],
      "text/plain": [
       "    constituency       candidates party vote_count  vote_percentage\n",
       "0  Bukit Panjang   Goh Tong Liang    PP       3097            72.21\n",
       "1  Bukit Panjang      Lim Wee Toh   SLF       1192            27.79\n",
       "2    Bukit Timah         S. F. Ho    PP        722            11.62\n",
       "3    Bukit Timah  Lim Ching Siong   PAP       3259            52.45\n",
       "4    Bukit Timah      A. N. Mitra   SLF        924            14.88"
      ]
     },
     "execution_count": 16,
     "metadata": {},
     "output_type": "execute_result"
    }
   ],
   "source": [
    "import pandas as pd\n",
    "import os\n",
    "import json\n",
    "\n",
    "if not os.path.exists(\"output\"):\n",
    "    os.makedirs(\"output\")\n",
    "\n",
    "data = pd.read_csv(\"./RAW DATA/parliamentary-general-election-results-by-candidate.csv\")\n",
    "\n",
    "df = data.loc[data[\"year\"]==1955].drop([\"year\", \"constituency_type\"], axis=1)\n",
    "df[\"vote_percentage\"] = df[\"vote_percentage\"].apply(pd.to_numeric, errors='coerce').apply(lambda x: round(x*100, 2))\n",
    "\n",
    "df.head()"
   ]
  },
  {
   "cell_type": "markdown",
   "metadata": {},
   "source": [
    "## winners1955.json\n",
    "```\n",
    "{\n",
    "    \"Havelock\": {\n",
    "        \"candidates\": \"Lim Yew Hock\",\n",
    "        \"party\": \"SLF\",\n",
    "        \"vote_percentage\": \"0.8648\"\n",
    "    },\n",
    "    \"Tanjong Pagar\": {\n",
    "        \"candidates\": \"Lee Kuan Yew\",\n",
    "        \"party\": \"PAP\",\n",
    "        \"vote_percentage\": \"0.7833\"\n",
    "    },\n",
    "```"
   ]
  },
  {
   "cell_type": "code",
   "execution_count": 1,
   "metadata": {
    "nbpresent": {
     "id": "35d786fd-5082-40a3-afaf-3b9baca9b992"
    }
   },
   "outputs": [
    {
     "ename": "NameError",
     "evalue": "name 'df' is not defined",
     "output_type": "error",
     "traceback": [
      "\u001b[1;31m---------------------------------------------------------------------------\u001b[0m",
      "\u001b[1;31mNameError\u001b[0m                                 Traceback (most recent call last)",
      "\u001b[1;32m<ipython-input-1-39cac8bc4736>\u001b[0m in \u001b[0;36m<module>\u001b[1;34m\u001b[0m\n\u001b[0;32m      2\u001b[0m     \u001b[1;32mreturn\u001b[0m \u001b[0mgroup\u001b[0m\u001b[1;33m.\u001b[0m\u001b[0mloc\u001b[0m\u001b[1;33m[\u001b[0m\u001b[0mgroup\u001b[0m\u001b[1;33m[\u001b[0m\u001b[1;34m'vote_percentage'\u001b[0m\u001b[1;33m]\u001b[0m \u001b[1;33m==\u001b[0m \u001b[0mgroup\u001b[0m\u001b[1;33m[\u001b[0m\u001b[1;34m'vote_percentage'\u001b[0m\u001b[1;33m]\u001b[0m\u001b[1;33m.\u001b[0m\u001b[0mmax\u001b[0m\u001b[1;33m(\u001b[0m\u001b[1;33m)\u001b[0m\u001b[1;33m]\u001b[0m\u001b[1;33m\u001b[0m\u001b[1;33m\u001b[0m\u001b[0m\n\u001b[0;32m      3\u001b[0m \u001b[1;33m\u001b[0m\u001b[0m\n\u001b[1;32m----> 4\u001b[1;33m \u001b[0mwinners\u001b[0m \u001b[1;33m=\u001b[0m \u001b[0mdf\u001b[0m\u001b[1;33m.\u001b[0m\u001b[0mgroupby\u001b[0m\u001b[1;33m(\u001b[0m\u001b[1;34m'constituency'\u001b[0m\u001b[1;33m)\u001b[0m\u001b[1;33m.\u001b[0m\u001b[0mapply\u001b[0m\u001b[1;33m(\u001b[0m\u001b[0mget_winners\u001b[0m\u001b[1;33m)\u001b[0m\u001b[1;33m.\u001b[0m\u001b[0mreset_index\u001b[0m\u001b[1;33m(\u001b[0m\u001b[0mdrop\u001b[0m\u001b[1;33m=\u001b[0m\u001b[1;32mTrue\u001b[0m\u001b[1;33m)\u001b[0m\u001b[1;33m.\u001b[0m\u001b[0msort_values\u001b[0m\u001b[1;33m(\u001b[0m\u001b[0mby\u001b[0m\u001b[1;33m=\u001b[0m\u001b[1;34m\"vote_percentage\"\u001b[0m\u001b[1;33m,\u001b[0m \u001b[0mascending\u001b[0m\u001b[1;33m=\u001b[0m\u001b[1;32mFalse\u001b[0m\u001b[1;33m)\u001b[0m\u001b[1;33m.\u001b[0m\u001b[0mset_index\u001b[0m\u001b[1;33m(\u001b[0m\u001b[0mkeys\u001b[0m\u001b[1;33m=\u001b[0m\u001b[1;34m\"constituency\"\u001b[0m\u001b[1;33m)\u001b[0m\u001b[1;33m\u001b[0m\u001b[1;33m\u001b[0m\u001b[0m\n\u001b[0m\u001b[0;32m      5\u001b[0m \u001b[1;33m\u001b[0m\u001b[0m\n\u001b[0;32m      6\u001b[0m \u001b[0mwinners\u001b[0m\u001b[1;33m.\u001b[0m\u001b[0mto_json\u001b[0m\u001b[1;33m(\u001b[0m\u001b[1;34mr\"output/winners1955.json\"\u001b[0m\u001b[1;33m,\u001b[0m \u001b[0morient\u001b[0m\u001b[1;33m=\u001b[0m\u001b[1;34m\"index\"\u001b[0m\u001b[1;33m)\u001b[0m\u001b[1;33m\u001b[0m\u001b[1;33m\u001b[0m\u001b[0m\n",
      "\u001b[1;31mNameError\u001b[0m: name 'df' is not defined"
     ]
    }
   ],
   "source": [
    "def get_winners(group):\n",
    "    return group.loc[group['vote_percentage'] == group['vote_percentage'].max()]\n",
    "\n",
    "winners = df.groupby('constituency').apply(get_winners).reset_index(drop=True).sort_values(by=\"vote_percentage\", ascending=False).set_index(keys=\"constituency\")\n",
    "\n",
    "winners.to_json(r\"output/winners1955.json\", orient=\"index\")\n",
    "winners.head()"
   ]
  },
  {
   "cell_type": "markdown",
   "metadata": {
    "collapsed": true
   },
   "source": [
    "I tried using pandas because I hoped it would provide an easier way to create subsets of data. It didn't. The way I did this is less efficient, but the data set is small.\n",
    "\n",
    "\n",
    "## constituencies1955.json"
   ]
  },
  {
   "cell_type": "code",
   "execution_count": 5,
   "metadata": {},
   "outputs": [],
   "source": [
    "import csv\n",
    "\n",
    "keys = ['year', 'constituency', 'constituency_type', 'candidates', 'party', 'vote_count', 'vote_percentage'];\n",
    "dict = {};\n",
    "sortedDict = {};\n",
    "\n",
    "with open('./RAW DATA/parliamentary-general-election-results-by-candidate.csv') as csv_file:\n",
    "    csv_reader = csv.reader(csv_file, delimiter=',')\n",
    "    for row in csv_reader:\n",
    "        if row[0] == \"1955\": \n",
    "            if row[1] in dict:                \n",
    "                dict[row[1]].insert(1, {\n",
    "                    \"candidates\": row[3],\n",
    "                    \"party\": row[4],\n",
    "                    \"vote_count\": int(row[5]),\n",
    "                    \"vote_percentage\": row[6]\n",
    "                })\n",
    "            else:\n",
    "                dict[row[1]] = [{\n",
    "                    \"candidates\": row[3],\n",
    "                    \"party\": row[4],\n",
    "                    \"vote_count\": int(row[5]),\n",
    "                    \"vote_percentage\": row[6]\n",
    "                }]\n",
    "                \n",
    "                \n",
    "    for district in dict:\n",
    "        sortedDict[district] = sorted( dict[district], key = lambda i: i[\"vote_count\"],reverse=True)\n",
    "\n",
    "text_file = open(r\"output/constituencies1955.json\", \"w\")\n",
    "text_file.write(json.dumps(sortedDict))\n",
    "text_file.close()"
   ]
  },
  {
   "cell_type": "code",
   "execution_count": null,
   "metadata": {
    "collapsed": true
   },
   "outputs": [],
   "source": []
  },
  {
   "cell_type": "code",
   "execution_count": null,
   "metadata": {
    "collapsed": true
   },
   "outputs": [],
   "source": []
  },
  {
   "cell_type": "code",
   "execution_count": null,
   "metadata": {
    "collapsed": true
   },
   "outputs": [],
   "source": []
  }
 ],
 "metadata": {
  "anaconda-cloud": {},
  "celltoolbar": "Raw Cell Format",
  "kernelspec": {
   "display_name": "Python 3",
   "language": "python",
   "name": "python3"
  }
 },
 "nbformat": 4,
 "nbformat_minor": 1
}
