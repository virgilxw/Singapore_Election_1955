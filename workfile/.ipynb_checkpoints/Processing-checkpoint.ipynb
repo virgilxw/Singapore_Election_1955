{
 "cells": [
  {
   "cell_type": "markdown",
   "metadata": {
    "nbpresent": {
     "id": "d73109e4-e270-437d-9cb5-43721c7e9074"
    }
   },
   "source": [
    "# Notebook of scripts to import and parse data"
   ]
  },
  {
   "cell_type": "markdown",
   "metadata": {
    "nbpresent": {
     "id": "f51f3d52-de2b-40e9-9cf3-2cc59d161d51"
    }
   },
   "source": [
    "['year', 'constituency', 'constituency_type', 'candidates', 'party', 'vote_count', 'vote_percentage']\n",
    "\n",
    "## Importing data from CSV"
   ]
  },
  {
   "cell_type": "code",
   "execution_count": 1,
   "metadata": {
    "nbpresent": {
     "id": "2da10356-119f-4bf9-b945-37240307fd5e"
    }
   },
   "outputs": [
    {
     "ename": "ImportError",
     "evalue": "No module named pandas",
     "output_type": "error",
     "traceback": [
      "\u001b[0;31m---------------------------------------------------------------------------\u001b[0m",
      "\u001b[0;31mImportError\u001b[0m                               Traceback (most recent call last)",
      "\u001b[0;32m<ipython-input-1-23191828fb47>\u001b[0m in \u001b[0;36m<module>\u001b[0;34m()\u001b[0m\n\u001b[0;32m----> 1\u001b[0;31m \u001b[0;32mimport\u001b[0m \u001b[0mpandas\u001b[0m \u001b[0;32mas\u001b[0m \u001b[0mpd\u001b[0m\u001b[0;34m\u001b[0m\u001b[0;34m\u001b[0m\u001b[0m\n\u001b[0m\u001b[1;32m      2\u001b[0m \u001b[0;32mimport\u001b[0m \u001b[0mos\u001b[0m\u001b[0;34m\u001b[0m\u001b[0;34m\u001b[0m\u001b[0m\n\u001b[1;32m      3\u001b[0m \u001b[0;32mimport\u001b[0m \u001b[0mjson\u001b[0m\u001b[0;34m\u001b[0m\u001b[0;34m\u001b[0m\u001b[0m\n\u001b[1;32m      4\u001b[0m \u001b[0;32mimport\u001b[0m \u001b[0mcsv\u001b[0m\u001b[0;34m\u001b[0m\u001b[0;34m\u001b[0m\u001b[0m\n\u001b[1;32m      5\u001b[0m \u001b[0;34m\u001b[0m\u001b[0m\n",
      "\u001b[0;31mImportError\u001b[0m: No module named pandas"
     ]
    }
   ],
   "source": [
    "import pandas as pd\n",
    "import os\n",
    "import json\n",
    "import csv\n",
    "\n",
    "if not os.path.exists(\"output\"):\n",
    "    os.makedirs(\"output\")\n",
    "\n",
    "data = pd.read_csv(\"./RAW DATA/parliamentary-general-election-results-by-candidate.csv\")\n",
    "\n",
    "df = data.loc[data[\"year\"]==1955].drop([\"year\", \"constituency_type\"], axis=1)\n",
    "df[\"vote_percentage\"] = df[\"vote_percentage\"].apply(pd.to_numeric, errors='coerce').apply(lambda x: round(x*100, 2))\n",
    "\n",
    "df.head()"
   ]
  },
  {
   "cell_type": "markdown",
   "metadata": {},
   "source": [
    "## winners1955.json\n",
    "```\n",
    "{\n",
    "    \"Havelock\": {\n",
    "        \"candidates\": \"Lim Yew Hock\",\n",
    "        \"party\": \"SLF\",\n",
    "        \"vote_percentage\": \"0.8648\"\n",
    "    },\n",
    "    \"Tanjong Pagar\": {\n",
    "        \"candidates\": \"Lee Kuan Yew\",\n",
    "        \"party\": \"PAP\",\n",
    "        \"vote_percentage\": \"0.7833\"\n",
    "    },\n",
    "```"
   ]
  },
  {
   "cell_type": "code",
   "execution_count": 2,
   "metadata": {
    "nbpresent": {
     "id": "35d786fd-5082-40a3-afaf-3b9baca9b992"
    }
   },
   "outputs": [
    {
     "ename": "NameError",
     "evalue": "name 'df' is not defined",
     "output_type": "error",
     "traceback": [
      "\u001b[0;31m---------------------------------------------------------------------------\u001b[0m",
      "\u001b[0;31mNameError\u001b[0m                                 Traceback (most recent call last)",
      "\u001b[0;32m<ipython-input-2-c2480ab5ee71>\u001b[0m in \u001b[0;36m<module>\u001b[0;34m()\u001b[0m\n\u001b[1;32m      2\u001b[0m     \u001b[0;32mreturn\u001b[0m \u001b[0mgroup\u001b[0m\u001b[0;34m.\u001b[0m\u001b[0mloc\u001b[0m\u001b[0;34m[\u001b[0m\u001b[0mgroup\u001b[0m\u001b[0;34m[\u001b[0m\u001b[0;34m'vote_percentage'\u001b[0m\u001b[0;34m]\u001b[0m \u001b[0;34m==\u001b[0m \u001b[0mgroup\u001b[0m\u001b[0;34m[\u001b[0m\u001b[0;34m'vote_percentage'\u001b[0m\u001b[0;34m]\u001b[0m\u001b[0;34m.\u001b[0m\u001b[0mmax\u001b[0m\u001b[0;34m(\u001b[0m\u001b[0;34m)\u001b[0m\u001b[0;34m]\u001b[0m\u001b[0;34m\u001b[0m\u001b[0;34m\u001b[0m\u001b[0m\n\u001b[1;32m      3\u001b[0m \u001b[0;34m\u001b[0m\u001b[0m\n\u001b[0;32m----> 4\u001b[0;31m \u001b[0mwinners\u001b[0m \u001b[0;34m=\u001b[0m \u001b[0mdf\u001b[0m\u001b[0;34m.\u001b[0m\u001b[0mgroupby\u001b[0m\u001b[0;34m(\u001b[0m\u001b[0;34m'constituency'\u001b[0m\u001b[0;34m)\u001b[0m\u001b[0;34m.\u001b[0m\u001b[0mapply\u001b[0m\u001b[0;34m(\u001b[0m\u001b[0mget_winners\u001b[0m\u001b[0;34m)\u001b[0m\u001b[0;34m.\u001b[0m\u001b[0mreset_index\u001b[0m\u001b[0;34m(\u001b[0m\u001b[0mdrop\u001b[0m\u001b[0;34m=\u001b[0m\u001b[0mTrue\u001b[0m\u001b[0;34m)\u001b[0m\u001b[0;34m.\u001b[0m\u001b[0msort_values\u001b[0m\u001b[0;34m(\u001b[0m\u001b[0mby\u001b[0m\u001b[0;34m=\u001b[0m\u001b[0;34m\"vote_percentage\"\u001b[0m\u001b[0;34m,\u001b[0m \u001b[0mascending\u001b[0m\u001b[0;34m=\u001b[0m\u001b[0mFalse\u001b[0m\u001b[0;34m)\u001b[0m\u001b[0;34m.\u001b[0m\u001b[0mset_index\u001b[0m\u001b[0;34m(\u001b[0m\u001b[0mkeys\u001b[0m\u001b[0;34m=\u001b[0m\u001b[0;34m\"constituency\"\u001b[0m\u001b[0;34m)\u001b[0m\u001b[0;34m\u001b[0m\u001b[0;34m\u001b[0m\u001b[0m\n\u001b[0m\u001b[1;32m      5\u001b[0m \u001b[0;34m\u001b[0m\u001b[0m\n\u001b[1;32m      6\u001b[0m \u001b[0mwinners\u001b[0m\u001b[0;34m.\u001b[0m\u001b[0mto_json\u001b[0m\u001b[0;34m(\u001b[0m\u001b[0;34mr\"output/winners1955.json\"\u001b[0m\u001b[0;34m,\u001b[0m \u001b[0morient\u001b[0m\u001b[0;34m=\u001b[0m\u001b[0;34m\"index\"\u001b[0m\u001b[0;34m)\u001b[0m\u001b[0;34m\u001b[0m\u001b[0;34m\u001b[0m\u001b[0m\n",
      "\u001b[0;31mNameError\u001b[0m: name 'df' is not defined"
     ]
    }
   ],
   "source": [
    "def get_winners(group):\n",
    "    return group.loc[group['vote_percentage'] == group['vote_percentage'].max()]\n",
    "\n",
    "winners = df.groupby('constituency').apply(get_winners).reset_index(drop=True).sort_values(by=\"vote_percentage\", ascending=False).set_index(keys=\"constituency\")\n",
    "\n",
    "winners.to_json(r\"output/winners1955.json\", orient=\"index\")\n",
    "winners.head()"
   ]
  },
  {
   "cell_type": "markdown",
   "metadata": {
    "collapsed": true
   },
   "source": [
    "I tried using pandas because I hoped it would provide an easier way to create subsets of data. It didn't. The way I did this is less efficient, but the data set is small.\n",
    "\n",
    "\n",
    "## constituencies1955.json"
   ]
  },
  {
   "cell_type": "code",
   "execution_count": 3,
   "metadata": {},
   "outputs": [],
   "source": [
    "import csv\n",
    "import json\n",
    "\n",
    "keys = ['year', 'constituency', 'constituency_type', 'candidates', 'party', 'vote_count', 'vote_percentage'];\n",
    "dict = {};\n",
    "sortedDict = {};\n",
    "\n",
    "with open('./RAW DATA/parliamentary-general-election-results-by-candidate.csv') as csv_file:\n",
    "    csv_reader = csv.reader(csv_file, delimiter=',')\n",
    "    for row in csv_reader:\n",
    "        if row[0] == \"1955\": \n",
    "            if row[1] in dict:                \n",
    "                dict[row[1]].insert(1, {\n",
    "                    \"candidates\": row[3],\n",
    "                    \"party\": row[4],\n",
    "                    \"vote_count\": int(row[5]),\n",
    "                    \"vote_percentage\": str(round(float(row[6])*100,2)).format('.2f')\n",
    "                })\n",
    "                    \n",
    "            else:\n",
    "                dict[row[1]] = [{\n",
    "                    \"candidates\": row[3],\n",
    "                    \"party\": row[4],\n",
    "                    \"vote_count\": int(row[5]),\n",
    "                    \"vote_percentage\": str(round(float(row[6])*100,2)).format('.2f')\n",
    "                }]\n",
    "                \n",
    "                \n",
    "    for district in dict:\n",
    "        sortedDict[district] = sorted( dict[district], key = lambda i: i[\"vote_count\"],reverse=True)\n",
    "\n",
    "text_file = open(r\"output/constituencies1955.json\", \"w\")\n",
    "text_file.write(json.dumps(sortedDict))\n",
    "text_file.close()"
   ]
  },
  {
   "cell_type": "markdown",
   "metadata": {},
   "source": [
    "# electedGovMembers1955.json\n",
    "# electedOppMembers1955.json"
   ]
  },
  {
   "cell_type": "code",
   "execution_count": 34,
   "metadata": {},
   "outputs": [
    {
     "name": "stdout",
     "output_type": "stream",
     "text": [
      "[[u'Havelock', {u'party': u'SLF', u'vote_count': u'5744', u'vote_percentage': 86.48, u'candidates': u'Lim Yew Hock'}], [u'Queenstown', {u'party': u'SLF', u'vote_count': u'2792', u'vote_percentage': 67.28, u'candidates': u'Lee Choon Eng'}], [u'Ulu Bedok', {u'party': u'SA', u'vote_count': u'5721', u'vote_percentage': 61.04, u'candidates': u'Abdul Hamid bin Jumat'}], [u'Southern Islands', {u'party': u'SA', u'vote_count': u'1233', u'vote_percentage': 50.57, u'candidates': u'Mohamed Sidik bin H. A. Hamid'}], [u'Cairnhill', {u'party': u'SLF', u'vote_count': u'3305', u'vote_percentage': 47.58, u'candidates': u'David Marshall'}], [u'Rochore', {u'party': u'SLF', u'vote_count': u'2929', u'vote_percentage': 46.25, u'candidates': u'Tan Theng Chiang'}], [u'Whampoa', {u'party': u'SLF', u'vote_count': u'2961', u'vote_percentage': 45.88, u'candidates': u'Chew Swee Kee'}], [u'Katong', {u'party': u'SLF', u'vote_count': u'4680', u'vote_percentage': 45.66, u'candidates': u'A. J. Braga'}], [u'Kampong Kapor', {u'party': u'SLF', u'vote_count': u'3253', u'vote_percentage': 45.6, u'candidates': u'Seah Peng Chuan'}], [u'Pasir Panjang', {u'party': u'SA', u'vote_count': u'3546', u'vote_percentage': 45.17, u'candidates': u'Wong Foo Nam'}], [u'Stamford', {u'party': u'SLF', u'vote_count': u'2691', u'vote_percentage': 43.08, u'candidates': u'J. M. Jumabhoy'}], [u'Geylang', {u'party': u'SLF', u'vote_count': u'2756', u'vote_percentage': 41.17, u'candidates': u'Mak Pak Shee'}], [u'Farrer Park', {u'party': u'SLF', u'vote_count': u'2585', u'vote_percentage': 38.52, u'candidates': u'A. R. Lazarous'}]]\n",
      "[[u'Tanjong Pagar', {u'party': u'PAP', u'vote_count': u'6029', u'vote_percentage': 78.33, u'candidates': u'Lee Kuan Yew'}], [u'Bukit Panjang', {u'party': u'PP', u'vote_count': u'3097', u'vote_percentage': 72.21, u'candidates': u'Goh Tong Liang'}], [u'Sembawang', {u'party': u'Ind.', u'vote_count': u'4281', u'vote_percentage': 63.24, u'candidates': u'Ahmad Ibrahim'}], [u'Punggol-Tampines', {u'party': u'PAP', u'vote_count': u'2127', u'vote_percentage': 55.38, u'candidates': u'Goh Chew Chua'}], [u'Bukit Timah', {u'party': u'PAP', u'vote_count': u'3259', u'vote_percentage': 52.45, u'candidates': u'Lim Ching Siong'}], [u'Paya Lebar', {u'party': u'PP', u'vote_count': u'3330', u'vote_percentage': 52.07, u'candidates': u'Lim Koon Teck'}], [u'Serangoon', {u'party': u'PP', u'vote_count': u'2172', u'vote_percentage': 45.83, u'candidates': u'Lim Choon Mong'}], [u'Tanglin', {u'party': u'PP', u'vote_count': u'3214', u'vote_percentage': 45.67, u'candidates': u'John Ede'}], [u'Changi', {u'party': u'DP', u'vote_count': u'2624', u'vote_percentage': 45.08, u'candidates': u'C. K. Lim'}], [u'Telok Ayer', {u'party': u'Ind.', u'vote_count': u'1945', u'vote_percentage': 39.9, u'candidates': u'Jumabhoy, R.'}], [u'Tiong Bahru', {u'party': u'DP', u'vote_count': u'2264', u'vote_percentage': 38.6, u'candidates': u'William Tan'}], [u'Seletar', {u'party': u'Ind.', u'vote_count': u'1771', u'vote_percentage': 31.83, u'candidates': u'M. P. D. Nair'}]]\n"
     ]
    }
   ],
   "source": [
    "import csv\n",
    "import json\n",
    "\n",
    "with open('output/winners1955.json', 'r') as f:\n",
    "    winners_dict = json.load(f)\n",
    "    \n",
    "    s = sorted( winners_dict, key = lambda k: float\n",
    "               (winners_dict[k][\"vote_percentage\"]),reverse=True)\n",
    "    \n",
    "gov_winners=[]\n",
    "opp_winners=[]\n",
    "parties_in_power = [\"SLF\", \"SA\"]\n",
    "    \n",
    "for i in s:\n",
    "    if winners_dict[i][\"party\"] in parties_in_power:\n",
    "        gov_winners.append([i, winners_dict[i]])\n",
    "    else:\n",
    "        opp_winners .append([i, winners_dict[i]])\n",
    "\n",
    "text_file = open(r\"output/constituencies1955.json\", \"w\")\n",
    "    \n",
    "print(opp_winners)\n"
   ]
  },
  {
   "cell_type": "code",
   "execution_count": null,
   "metadata": {},
   "outputs": [],
   "source": []
  },
  {
   "cell_type": "code",
   "execution_count": null,
   "metadata": {},
   "outputs": [],
   "source": []
  }
 ],
 "metadata": {
  "anaconda-cloud": {},
  "celltoolbar": "Raw Cell Format",
  "kernelspec": {
   "display_name": "Python 2",
   "language": "python",
   "name": "python2"
  },
  "language_info": {
   "codemirror_mode": {
    "name": "ipython",
    "version": 2
   },
   "file_extension": ".py",
   "mimetype": "text/x-python",
   "name": "python",
   "nbconvert_exporter": "python",
   "pygments_lexer": "ipython2",
   "version": "2.7.15+"
  }
 },
 "nbformat": 4,
 "nbformat_minor": 1
}
